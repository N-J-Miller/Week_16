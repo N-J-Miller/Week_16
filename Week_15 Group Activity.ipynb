{
 "cells": [
  {
   "cell_type": "markdown",
   "id": "dfd73d50",
   "metadata": {},
   "source": [
    "# Week 15 Group Activity"
   ]
  },
  {
   "cell_type": "markdown",
   "id": "444dbf22",
   "metadata": {},
   "source": [
    "1. Look up SMOTE oversampling\n",
    "https://imbalanced-learn.org/stable/references/generated/imblearn.over_sampling.SMOTE.html .\n",
    "\n",
    "a. Describe what it is in your own words in markdown.\n"
   ]
  },
  {
   "cell_type": "markdown",
   "id": "20732bd6",
   "metadata": {},
   "source": [
    "SMOTE is an acronym standing for Synthetic Minority Oversampling TEchnique. It is a way you can take data that isn't truly representative of your population and still create models with acceptable accuracy by creating artificial members of the underrepresented categories to equalize your dataset. SMOTE does this by first choosing a random example of the minority group. Then it takes the k of the nearest neighbors -usually k=5- and a new sample is created at a randomly selected point between any one of the neighbors and the random example in the feature space."
   ]
  },
  {
   "cell_type": "markdown",
   "id": "6d9341fe",
   "metadata": {},
   "source": [
    "1.b. Use this technique with the diabetes dataset. Comment on the model\n",
    "performance compared to other methods. Make sure you are clear about why\n",
    "you chose the performance metric you did."
   ]
  },
  {
   "cell_type": "code",
   "execution_count": 12,
   "id": "ca107095",
   "metadata": {},
   "outputs": [
    {
     "data": {
      "text/html": [
       "<div>\n",
       "<style scoped>\n",
       "    .dataframe tbody tr th:only-of-type {\n",
       "        vertical-align: middle;\n",
       "    }\n",
       "\n",
       "    .dataframe tbody tr th {\n",
       "        vertical-align: top;\n",
       "    }\n",
       "\n",
       "    .dataframe thead th {\n",
       "        text-align: right;\n",
       "    }\n",
       "</style>\n",
       "<table border=\"1\" class=\"dataframe\">\n",
       "  <thead>\n",
       "    <tr style=\"text-align: right;\">\n",
       "      <th></th>\n",
       "      <th>Pregnancies</th>\n",
       "      <th>Glucose</th>\n",
       "      <th>BloodPressure</th>\n",
       "      <th>SkinThickness</th>\n",
       "      <th>Insulin</th>\n",
       "      <th>BMI</th>\n",
       "      <th>DiabetesPedigreeFunction</th>\n",
       "      <th>Age</th>\n",
       "      <th>Outcome</th>\n",
       "    </tr>\n",
       "  </thead>\n",
       "  <tbody>\n",
       "    <tr>\n",
       "      <th>0</th>\n",
       "      <td>6</td>\n",
       "      <td>148</td>\n",
       "      <td>72</td>\n",
       "      <td>35</td>\n",
       "      <td>0</td>\n",
       "      <td>33.6</td>\n",
       "      <td>0.627</td>\n",
       "      <td>50</td>\n",
       "      <td>1</td>\n",
       "    </tr>\n",
       "    <tr>\n",
       "      <th>1</th>\n",
       "      <td>1</td>\n",
       "      <td>85</td>\n",
       "      <td>66</td>\n",
       "      <td>29</td>\n",
       "      <td>0</td>\n",
       "      <td>26.6</td>\n",
       "      <td>0.351</td>\n",
       "      <td>31</td>\n",
       "      <td>0</td>\n",
       "    </tr>\n",
       "    <tr>\n",
       "      <th>2</th>\n",
       "      <td>8</td>\n",
       "      <td>183</td>\n",
       "      <td>64</td>\n",
       "      <td>0</td>\n",
       "      <td>0</td>\n",
       "      <td>23.3</td>\n",
       "      <td>0.672</td>\n",
       "      <td>32</td>\n",
       "      <td>1</td>\n",
       "    </tr>\n",
       "    <tr>\n",
       "      <th>3</th>\n",
       "      <td>1</td>\n",
       "      <td>89</td>\n",
       "      <td>66</td>\n",
       "      <td>23</td>\n",
       "      <td>94</td>\n",
       "      <td>28.1</td>\n",
       "      <td>0.167</td>\n",
       "      <td>21</td>\n",
       "      <td>0</td>\n",
       "    </tr>\n",
       "    <tr>\n",
       "      <th>4</th>\n",
       "      <td>0</td>\n",
       "      <td>137</td>\n",
       "      <td>40</td>\n",
       "      <td>35</td>\n",
       "      <td>168</td>\n",
       "      <td>43.1</td>\n",
       "      <td>2.288</td>\n",
       "      <td>33</td>\n",
       "      <td>1</td>\n",
       "    </tr>\n",
       "  </tbody>\n",
       "</table>\n",
       "</div>"
      ],
      "text/plain": [
       "   Pregnancies  Glucose  BloodPressure  SkinThickness  Insulin   BMI  \\\n",
       "0            6      148             72             35        0  33.6   \n",
       "1            1       85             66             29        0  26.6   \n",
       "2            8      183             64              0        0  23.3   \n",
       "3            1       89             66             23       94  28.1   \n",
       "4            0      137             40             35      168  43.1   \n",
       "\n",
       "   DiabetesPedigreeFunction  Age  Outcome  \n",
       "0                     0.627   50        1  \n",
       "1                     0.351   31        0  \n",
       "2                     0.672   32        1  \n",
       "3                     0.167   21        0  \n",
       "4                     2.288   33        1  "
      ]
     },
     "execution_count": 12,
     "metadata": {},
     "output_type": "execute_result"
    }
   ],
   "source": [
    "# Dependencies and Modules\n",
    "\n",
    "import pandas as pd\n",
    "import numpy as np\n",
    "import os\n",
    "\n",
    "from sklearn.linear_model import LinearRegression\n",
    "from sklearn.preprocessing import StandardScaler\n",
    "from sklearn.model_selection import train_test_split\n",
    "\n",
    "from statsmodels.formula.api import ols, logit\n",
    "from matplotlib import pyplot as plt\n",
    "\n",
    "from sklearn.linear_model import LogisticRegression\n",
    "from sklearn.model_selection import GridSearchCV\n",
    "from sklearn.metrics import confusion_matrix, plot_confusion_matrix, classification_report\n",
    "from statsmodels.graphics.mosaicplot import mosaic\n",
    "\n",
    "\n",
    "diabetes_df = pd.read_csv(\"diabetes.csv\")\n",
    "diabetes_df.head()"
   ]
  },
  {
   "cell_type": "code",
   "execution_count": 13,
   "id": "b724072e",
   "metadata": {},
   "outputs": [],
   "source": [
    "X = diabetes_df.drop(\"Outcome\",axis=1)\n",
    "y = diabetes_df[\"Outcome\"]\n",
    "\n",
    "X_train, X_test, y_train, y_test = train_test_split(X, y, test_size = 0.3, random_state = 42, stratify = y)\n",
    "\n",
    "sc = StandardScaler()\n",
    "X_train = sc.fit_transform(X_train)\n",
    "X_test = sc.fit_transform(X_test)"
   ]
  },
  {
   "cell_type": "code",
   "execution_count": 14,
   "id": "e4353c7d",
   "metadata": {},
   "outputs": [],
   "source": [
    "from collections import Counter\n",
    "from sklearn.datasets import make_classification\n",
    "from imblearn.over_sampling import SMOTE\n",
    "\n",
    "# We're gonna use that SMOTE \n",
    "\n",
    "smoted = SMOTE(sampling_strategy = 0.8, random_state=42)\n",
    "X_res, y_res = smoted.fit_resample(X_train, y_train)"
   ]
  },
  {
   "cell_type": "code",
   "execution_count": 15,
   "id": "cfd96b18",
   "metadata": {},
   "outputs": [
    {
     "name": "stdout",
     "output_type": "stream",
     "text": [
      "                   pre       rec       spe        f1       geo       iba       sup\n",
      "\n",
      "          0       0.77      0.85      0.52      0.81      0.67      0.46       150\n",
      "          1       0.66      0.52      0.85      0.58      0.67      0.43        81\n",
      "\n",
      "avg / total       0.73      0.74      0.64      0.73      0.67      0.45       231\n",
      "\n"
     ]
    }
   ],
   "source": [
    "# firing up logistic regression classifier\n",
    "lreg = LogisticRegression()\n",
    "\n",
    "outcome = lreg.fit(X_train, y_train)\n",
    "\n",
    "y_pred = outcome.predict(X_test)\n",
    "\n",
    "from imblearn.metrics import classification_report_imbalanced\n",
    "print(classification_report_imbalanced(y_test, y_pred))"
   ]
  },
  {
   "cell_type": "markdown",
   "id": "9ee410ef",
   "metadata": {},
   "source": [
    "SMOTE helped our model recall value increase to 0.57."
   ]
  },
  {
   "cell_type": "markdown",
   "id": "12b321e3",
   "metadata": {},
   "source": [
    "2. Create a function called rec_digit_sum that takes in an integer. This function is the recursive sum of all the digits in a number. Given n, take the sum of all the digits in n. If the resulting value has more than one digit, continue calling the function in this way until a single-digit number is produced. The input will be a non-negative integer, and this should work for extremely large values as well as for single-digit inputs.\n",
    "\n",
    "Examples:\n",
    "\n",
    "16 --> 1 + 6 = 7\n",
    "\n",
    "942 --> 9 + 4 + 2 = 15 --> 1 + 5 = 6\n",
    "\n",
    "132189 --> 1 + 3 + 2 + 1 + 8 + 9 = 24 --> 2 + 4 = 6\n",
    "\n",
    "493193 --> 4 + 9 + 3 + 1 + 9 + 3 = 29 --> 2 + 9 = 11 --> 1 + 1 = 2"
   ]
  },
  {
   "cell_type": "code",
   "execution_count": 16,
   "id": "0220aa0a",
   "metadata": {},
   "outputs": [],
   "source": [
    "def rec_digit_sum(n):\n",
    "    \"\"\"Will return the recursive sum of a non-negative integer input\"\"\"\n",
    "    try:\n",
    "        num = [int(x) for x in str(n)]\n",
    "        rsum = sum(num)\n",
    "        rnum = [int(x) for x in str(rsum)]\n",
    "        if len(rnum) > 1:\n",
    "            rec_digit_sum(rsum)\n",
    "        else:\n",
    "            print(rsum)\n",
    "    except ValueError:\n",
    "        print(\"Please input a non-negative number.\")"
   ]
  },
  {
   "cell_type": "code",
   "execution_count": 17,
   "id": "f08888d4",
   "metadata": {},
   "outputs": [
    {
     "name": "stdout",
     "output_type": "stream",
     "text": [
      "3\n"
     ]
    }
   ],
   "source": [
    "rec_digit_sum(3)"
   ]
  },
  {
   "cell_type": "code",
   "execution_count": 18,
   "id": "af4ea84e",
   "metadata": {},
   "outputs": [
    {
     "name": "stdout",
     "output_type": "stream",
     "text": [
      "9\n"
     ]
    }
   ],
   "source": [
    "rec_digit_sum(424242424242424242)"
   ]
  },
  {
   "cell_type": "code",
   "execution_count": 19,
   "id": "1f983d30",
   "metadata": {},
   "outputs": [
    {
     "name": "stdout",
     "output_type": "stream",
     "text": [
      "6\n"
     ]
    }
   ],
   "source": [
    "rec_digit_sum(888)"
   ]
  },
  {
   "cell_type": "code",
   "execution_count": null,
   "id": "f44c77a1",
   "metadata": {},
   "outputs": [],
   "source": []
  }
 ],
 "metadata": {
  "kernelspec": {
   "display_name": "Python 3 (ipykernel)",
   "language": "python",
   "name": "python3"
  },
  "language_info": {
   "codemirror_mode": {
    "name": "ipython",
    "version": 3
   },
   "file_extension": ".py",
   "mimetype": "text/x-python",
   "name": "python",
   "nbconvert_exporter": "python",
   "pygments_lexer": "ipython3",
   "version": "3.9.7"
  }
 },
 "nbformat": 4,
 "nbformat_minor": 5
}
