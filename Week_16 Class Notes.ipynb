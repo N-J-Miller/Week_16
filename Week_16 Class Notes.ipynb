{
 "cells": [
  {
   "cell_type": "markdown",
   "id": "fa979ea1",
   "metadata": {},
   "source": [
    "# Week 16"
   ]
  },
  {
   "cell_type": "markdown",
   "id": "3e54b02c",
   "metadata": {},
   "source": [
    "Warm-up\n",
    "\n",
    "What is KNN? How does it work? How is it evaluated? Be concise. These are the kind of questions that are asked in data science interviews."
   ]
  },
  {
   "cell_type": "code",
   "execution_count": null,
   "id": "22d91dc9",
   "metadata": {},
   "outputs": [],
   "source": []
  },
  {
   "cell_type": "markdown",
   "id": "23ae537d",
   "metadata": {},
   "source": [
    "Write a lambda that takes the following list and returns only the odd values in it: [1,2,3,4,5,6,7,8,9,10]"
   ]
  },
  {
   "cell_type": "code",
   "execution_count": 5,
   "id": "4d26590a",
   "metadata": {},
   "outputs": [
    {
     "name": "stdout",
     "output_type": "stream",
     "text": [
      "[1, 3, 5, 7, 9]\n"
     ]
    }
   ],
   "source": [
    "my_list = [1,2,3,4,5,6,7,8,9,10]\n",
    "\n",
    "\n",
    "\n",
    "   \n",
    "odd_num = list(filter(lambda x: x%2 != 0, my_list))\n",
    "print(odd_num)"
   ]
  },
  {
   "cell_type": "code",
   "execution_count": 6,
   "id": "d68b6595",
   "metadata": {},
   "outputs": [
    {
     "data": {
      "text/html": [
       "<div>\n",
       "<style scoped>\n",
       "    .dataframe tbody tr th:only-of-type {\n",
       "        vertical-align: middle;\n",
       "    }\n",
       "\n",
       "    .dataframe tbody tr th {\n",
       "        vertical-align: top;\n",
       "    }\n",
       "\n",
       "    .dataframe thead th {\n",
       "        text-align: right;\n",
       "    }\n",
       "</style>\n",
       "<table border=\"1\" class=\"dataframe\">\n",
       "  <thead>\n",
       "    <tr style=\"text-align: right;\">\n",
       "      <th></th>\n",
       "      <th>id</th>\n",
       "      <th>name</th>\n",
       "      <th>host_id</th>\n",
       "      <th>host_name</th>\n",
       "      <th>neighbourhood_group</th>\n",
       "      <th>neighbourhood</th>\n",
       "      <th>latitude</th>\n",
       "      <th>longitude</th>\n",
       "      <th>room_type</th>\n",
       "      <th>price</th>\n",
       "      <th>minimum_nights</th>\n",
       "      <th>number_of_reviews</th>\n",
       "      <th>last_review</th>\n",
       "      <th>reviews_per_month</th>\n",
       "      <th>calculated_host_listings_count</th>\n",
       "      <th>availability_365</th>\n",
       "    </tr>\n",
       "  </thead>\n",
       "  <tbody>\n",
       "    <tr>\n",
       "      <th>0</th>\n",
       "      <td>36666</td>\n",
       "      <td>Mo's Cozy Casa w/ veranda &amp; access to dock</td>\n",
       "      <td>157752</td>\n",
       "      <td>Monique</td>\n",
       "      <td>Belize</td>\n",
       "      <td>Belize Islands</td>\n",
       "      <td>17.74786</td>\n",
       "      <td>-88.02398</td>\n",
       "      <td>Entire home/apt</td>\n",
       "      <td>141</td>\n",
       "      <td>3</td>\n",
       "      <td>250</td>\n",
       "      <td>2/23/2021</td>\n",
       "      <td>2.0</td>\n",
       "      <td>5</td>\n",
       "      <td>225</td>\n",
       "    </tr>\n",
       "  </tbody>\n",
       "</table>\n",
       "</div>"
      ],
      "text/plain": [
       "      id                                        name  host_id host_name  \\\n",
       "0  36666  Mo's Cozy Casa w/ veranda & access to dock   157752   Monique   \n",
       "\n",
       "  neighbourhood_group   neighbourhood  latitude  longitude        room_type  \\\n",
       "0              Belize  Belize Islands  17.74786  -88.02398  Entire home/apt   \n",
       "\n",
       "   price  minimum_nights  number_of_reviews last_review  reviews_per_month  \\\n",
       "0    141               3                250   2/23/2021                2.0   \n",
       "\n",
       "   calculated_host_listings_count  availability_365  \n",
       "0                               5               225  "
      ]
     },
     "execution_count": 6,
     "metadata": {},
     "output_type": "execute_result"
    }
   ],
   "source": [
    "# Dependencies and modules:\n",
    "\n",
    "import pandas as pd\n",
    "import numpy as np\n",
    "import statistics\n",
    "import math\n",
    "from scipy import stats\n",
    "from sklearn.model_selection import train_test_split\n",
    "from sklearn.linear_model import LinearRegression\n",
    "from sklearn.neighbors import KNeighborsClassifier\n",
    "from sklearn.preprocessing import StandardScaler\n",
    "sc = StandardScaler()\n",
    "import requests\n",
    "import time\n",
    "import matplotlib.pyplot as plt\n",
    "import seaborn as sns\n",
    "sns.set_theme(style=\"whitegrid\")\n",
    "from pprint import pprint\n",
    "\n",
    " \n",
    "# Belize AirBnB .csv file:\n",
    "\n",
    "belize_listings_path = \"C:/Users/Nik/Documents/belize_airbnb_listings.csv\"\n",
    "belize_df = pd.read_csv(belize_listings_path)\n",
    "belize_df.head(1)"
   ]
  },
  {
   "cell_type": "markdown",
   "id": "a0b776ed",
   "metadata": {},
   "source": [
    "Setting primary key with  PRIMARY KEY designation"
   ]
  },
  {
   "cell_type": "markdown",
   "id": "bcec745b",
   "metadata": {},
   "source": [
    "Questions from reading:\n",
    "\n",
    "Main Splitting Criteria:\n",
    "\n",
    " Gini Impurity – As per Wikipedia, Gini impurity is a measure of how often a randomly chosen element from the set would be incorrectly labeled if it was randomly labeled according to the distribution of labels in the subset.\n",
    "In simple terms, Gini impurity is the measure of impurity in a node. Its formula is:\n",
    "\n",
    "\n",
    " \n",
    "Entropy –Another very popular way to split nodes in the decision tree is Entropy. Entropy is the measure of Randomness in the system. The formula for Entropy is:\n",
    " \n",
    "Variance –– Gini Impurity and Entropy work well for the classification scenario.\n",
    "But what about regression?\n",
    "In the case of regression, the most common split measure used is just the weighted variance of the nodes. It makes sense too: We want minimum variation in the nodes after the split.\n",
    "\n",
    "\n",
    " \n",
    "Information Gain – Information gain or IG is a statistical property that measures how well a given attribute separates the training examples according to their target classification.\n"
   ]
  },
  {
   "cell_type": "markdown",
   "id": "7433538f",
   "metadata": {},
   "source": [
    "Ways to tune: \n",
    "Next, we will tune the parameters of the decision tree to increase its accuracy.\n",
    "\n",
    "One of those parameters is 'min_samples_split', which is the minimum number of samples required to split an internal node. Its default value is equal to 2 because we cannot split a node containing only one example / sample.\n",
    "\n",
    "Per the documentation from scikit-learn.org, the parameter 'min_samples_split'\n",
    "\n",
    "min_samples_split : int or float, default=2\n",
    "The minimum number of samples required to split an internal node:\n",
    "If int, then consider min_samples_split as the minimum number.\n",
    "If float, then min_samples_split is a fraction and ceil (min_samples_split * n_samples)\n",
    "are the minimum number of samples for each split.\n",
    "\n",
    "We can see that the accuracy on the test set remained same, while it decreased on the training set from 1 to ~0.96. The score will not necessarily remain the same, it may increase or decrease.\n",
    "\n",
    "This is because increasing the value of the min_sample_split smooths the decision boundary and thus prevents it from overfitting.\n",
    "\n",
    "You may tune other parameters of the decision tree and check how they affect the decision boundary in a similar way."
   ]
  },
  {
   "cell_type": "code",
   "execution_count": null,
   "id": "e79673f4",
   "metadata": {},
   "outputs": [],
   "source": []
  }
 ],
 "metadata": {
  "kernelspec": {
   "display_name": "Python 3 (ipykernel)",
   "language": "python",
   "name": "python3"
  },
  "language_info": {
   "codemirror_mode": {
    "name": "ipython",
    "version": 3
   },
   "file_extension": ".py",
   "mimetype": "text/x-python",
   "name": "python",
   "nbconvert_exporter": "python",
   "pygments_lexer": "ipython3",
   "version": "3.9.7"
  }
 },
 "nbformat": 4,
 "nbformat_minor": 5
}
